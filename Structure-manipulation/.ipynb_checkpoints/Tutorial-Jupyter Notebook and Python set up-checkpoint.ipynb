{
 "cells": [
  {
   "cell_type": "markdown",
   "id": "0f8814bb",
   "metadata": {},
   "source": [
    "Late updated: July 13 2022\n",
    "\n",
    "### [Wang Materials Group @ UT Austin](https://wangmaterialsgroup.com)"
   ]
  },
  {
   "cell_type": "markdown",
   "id": "574379db",
   "metadata": {},
   "source": [
    "# Overview\n",
    "\n",
    "This Jupyter notebook contains tips on setting up Jupyter notebooks and your Python environment.\n",
    "\n",
    "Assumes Linux(-like) environment\n",
    "\n",
    "This notebook covers basics for:\n",
    "- markdown syntax\n",
    "- making a conda environment\n",
    "- install Jupyter notebooks\n"
   ]
  },
  {
   "cell_type": "markdown",
   "id": "7744d59f",
   "metadata": {},
   "source": [
    "## Markdown syntax: a sampling"
   ]
  },
  {
   "cell_type": "markdown",
   "id": "1908a908",
   "metadata": {},
   "source": [
    "Markdown is a lightweight markup language for creating formatted text using a plain-text editor.\n",
    "\n",
    "You can convert any cell in into a markdown cell by pressing `Esc+m` or going to Cell -> Cell Type -> Markdown.\n",
    "\n",
    "Here we'll sample a few useful ways to use markdown. Double click a cell to see the original markdown syntax.\n",
    "\n",
    "Note: spaces and new lines are important for rendering markdown properly!\n",
    "\n",
    "Other resources: [link](https://medium.com/analytics-vidhya/the-ultimate-markdown-guide-for-jupyter-notebook-d5e5abf728fd)"
   ]
  },
  {
   "cell_type": "markdown",
   "id": "560ac402",
   "metadata": {},
   "source": [
    "# Header 1\n",
    "\n",
    "## Header 2\n",
    "\n",
    "### Header 3 \n",
    "\n",
    "#### Header 4\n",
    "\n",
    "---\n",
    "\n",
    "### Lists\n",
    "\n",
    "- unordered\n",
    "+ unordered \n",
    "* unordered\n",
    "    - nesting\n",
    "        - nesting (most inner nest)\n",
    "\n",
    "or\n",
    "\n",
    "1. ordered\n",
    "2. ordered\n",
    "\n",
    "or \n",
    "\n",
    "- [x] checklist item 1\n",
    "- [ ] checklist item 2\n",
    "\n",
    "---\n",
    "\n",
    "### Text\n",
    "\n",
    "*emphasize with italics*\n",
    "\n",
    "_emphasize with italics again with slightly different syntax_\n",
    "\n",
    "**emphasize with bold**\n",
    "\n",
    "__emphasize with bold again with slightly different syntax__\n",
    "\n",
    "**_italicize and bold_**\n",
    "\n",
    "~~strikethrough~~\n",
    "\n",
    "Starting a new paragraph in markdown requires hitting return twice.\n",
    "Otherwise the next chunk of text will appear on the same line.\n",
    "\n",
    "> Highlight a block quote\n",
    ">> and indicate nesting\n",
    "\n",
    "`Highlight some code, e.g., in line`\n",
    "\n",
    "``` \n",
    "Display as verbatim\n",
    "\n",
    "```\n",
    "\n",
    "```python\n",
    "# display code with syntax highlighting in e.g., python\n",
    "if language=='python':\n",
    "    print(\"with python syntax highlighting\")\n",
    "```\n",
    "\n",
    "***\n",
    "\n",
    "### Images\n",
    "\n",
    "Hover of the image to view alternate text.\n",
    "Link to an image online or to a file stored locally on your computer (give an absolute or relative path).\n",
    "![Alternate text](https://www.python.org/static/community_logos/python-logo-master-v3-TM.png)\n",
    "\n",
    "---\n",
    "\n",
    "### Hyperlinks\n",
    "\n",
    "Show link directly: https://en.wikipedia.org\n",
    "\n",
    "Or embed in display text: [link](https://en.wikipedia.org)\n",
    "\n",
    "---\n",
    "\n",
    "### Tables\n",
    "\n",
    "|Column 1|Column 2|Column 3|\n",
    "|--------|--------|--------|\n",
    "|A       |1       |3       |\n",
    "|B       |2       |4       |\n",
    " \n",
    "---\n",
    "\n",
    "### Math equations\n",
    "\n",
    "Can be rendered with LaTeX syntax!\n",
    "\n",
    "$ I=\\frac{2\\pi e}{\\hbar}\\sum_{\\mu,\\nu}f(E_{\\mu})([1-f(E_{\\nu}+eV)]|M_{\\mu\\nu}|^{2}\\delta(E_{\\mu}-E_{\\nu}) $ "
   ]
  },
  {
   "cell_type": "markdown",
   "id": "87a9ef60",
   "metadata": {},
   "source": [
    "## Install relevant packages"
   ]
  },
  {
   "cell_type": "markdown",
   "id": "75941081",
   "metadata": {},
   "source": [
    "We will use `bash` as our terminal environment.\n",
    "\n",
    "In your terminal:\n",
    "\n",
    "1. Update your local package manager\n",
    "> `sudo apt-get update`\n",
    "\n",
    "2. Install `conda`, an open source package management system and environment management system, e.g., [instructions for Ubuntu 20.04](https://linuxize.com/post/how-to-install-anaconda-on-ubuntu-20-04/)\n",
    "\n",
    "```bash \n",
    "# download the installation script\n",
    "wget -P ~/Downloads/ https://repo.anaconda.com/archive/Anaconda3-2020.02-Linux-x86_64.sh\n",
    "# check data integrity of the script; compare output with given sha256sum: \n",
    "# https://docs.anaconda.com/anaconda/install/hashes/lin-3-64/\n",
    "sha256sum ~/Downloads/Anaconda3-2020.02-Linux-x86_64.sh\n",
    "# run installation script and follow the prompts\n",
    "bash ~/Downloads/Anaconda3-2020.02-Linux-x86_64.sh\n",
    "```\n",
    "\n",
    "3. Create an environment: [getting started with conda](https://docs.conda.io/projects/conda/en/latest/user-guide/getting-started.html)\n",
    "\n",
    "```bash\n",
    "conda create --name <name of your environment>\n",
    "conda activate <name of your environment>\n",
    "conda deactivate\n",
    "```\n",
    "\n",
    "4. Install Jupyter notebooks\n",
    "```bash\n",
    "# update local repositories\n",
    "sudo apt-get update\n",
    "# install latest version of python\n",
    "sudo apt-get install python3\n",
    "# and the latest package manager\n",
    "sudo apt-get install python3-pip\n",
    "# install Jupyter\n",
    "pip3 install jupyter\n",
    "# launch Jupyter notebooks\n",
    "jupyter notebook\n",
    "```\n",
    "\n",
    "4. (Optional) Install `jupyterlab`, a web-based interactive development environment for notebooks, code, and data; ([install instructions](https://jupyterlab.readthedocs.io/en/stable/getting_started/installation.html)), e.g, \n",
    "> `conda install -c conda-forge jupyterlab`"
   ]
  },
  {
   "cell_type": "markdown",
   "id": "1d1fd952",
   "metadata": {},
   "source": [
    "### Plots!"
   ]
  },
  {
   "cell_type": "code",
   "execution_count": 1,
   "id": "dfa94a11",
   "metadata": {},
   "outputs": [
    {
     "data": {
      "image/png": "[encoded data removed]",
      "text/plain": [
       "<Figure size 432x288 with 1 Axes>"
      ]
     },
     "metadata": {
      "needs_background": "light"
     },
     "output_type": "display_data"
    }
   ],
   "source": [
    "import numpy as np\n",
    "import matplotlib.pyplot as plt\n",
    "\n",
    "%matplotlib inline\n",
    "\n",
    "# generate some data\n",
    "x = np.linspace(-5,5,20)\n",
    "y = x**2 \n",
    "\n",
    "plt.plot(x,y);\n",
    "plt.title(\"Minimum working plotting example\",size=15);\n",
    "plt.xlabel(\"x-axis label\", size=15);\n",
    "plt.ylabel(\"y-axis label\", size=15);\n"
   ]
  },
  {
   "cell_type": "markdown",
   "id": "b99246fd",
   "metadata": {},
   "source": [
    "## Converting Notebooks\n",
    "\n",
    "On the command line:\n",
    "\n",
    "Jupyter notebook --> script (e.g., python)\n",
    "```bash\n",
    "> jupyter nbconvert --to script [YOUR_NOTEBOOK].ipynb\n",
    "```"
   ]
  }
 ],
 "metadata": {
  "kernelspec": {
   "display_name": "Python 3 (ipykernel)",
   "language": "python",
   "name": "python3"
  },
  "language_info": {
   "codemirror_mode": {
    "name": "ipython",
    "version": 3
   },
   "file_extension": ".py",
   "mimetype": "text/x-python",
   "name": "python",
   "nbconvert_exporter": "python",
   "pygments_lexer": "ipython3",
   "version": "3.9.12"
  }
 },
 "nbformat": 4,
 "nbformat_minor": 5
}
