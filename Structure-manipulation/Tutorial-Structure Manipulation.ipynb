{
 "cells": [
  {
   "cell_type": "markdown",
   "metadata": {},
   "source": [
    "Late updated: July 19 2022\n",
    "\n",
    "### [Wang Materials Group @ UT Austin](https://wangmaterialsgroup.com)"
   ]
  },
  {
   "cell_type": "markdown",
   "metadata": {},
   "source": [
    "# Overview"
   ]
  },
  {
   "cell_type": "markdown",
   "metadata": {},
   "source": [
    "This notebook contains an example workflow for manipulating crystal structures to be used in electronic structure codes such as [Quantum ESPRESSO](https://www.quantum-espresso.org/) and [VASP](https://www.vasp.at/) using open-source materials informatics packages.\n",
    "\n",
    "This tutorial barely scatches the surface for the capabilities of the ASE and pymatgen packages.\n",
    "For example, ASE may be used to instantiate calculators and control external electronic structure codes. \n",
    "\n",
    "Here, we will focus on the basic task of structure manipulation and some common tasks in the research for the group.\n",
    "\n",
    "\n",
    "Covered in this notebook are examples for:\n",
    "- importing structures\n",
    "- making supercells structures\n",
    "- introducing point defects\n",
    "- cleaving at a particular surface facet\n",
    "- introducing adsorbates\n",
    "\n",
    "\n",
    "NOTE: for instructive purposes, each cell contains the entirety of all the imports needed for the cell to run; in reality, you only need to import a package (or part of a package once)\n",
    "\n",
    "This tutorial assumes you are familiar with the following concepts in Python:\n",
    "- arrays and basic linear algebra operations\n",
    "- functions\n",
    "- classes, attributes. inheritence \n",
    "\n",
    "and the following concepts:\n",
    "- basic crystallography, i.e., lattice vectors, fractional coordinates v cartesian coordinates\n",
    "- Miller indices for surfaces\n",
    "\n",
    "\n",
    "If any of these are unfamiliar to you, you are highly encouraged to read about them in any number of online Python tutorials, e.g., [object oriented programming](https://realpython.com/python3-object-oriented-programming/), [data types](https://realpython.com/python-data-types/), [variable types](https://www.tutorialspoint.com/python/python_variable_types.htm)\n",
    "\n",
    "## Introduction\n",
    "\n",
    "In any electronic structure calculation, you need to:\n",
    "- know what calculation parameters to run (e.g., pseudopotential, functional, convergence parameters, etc.)\n",
    "- a reasonable starting structure for the calculation to start with\n",
    "\n",
    "We will be going over the second component- example strategies for generating and manipulating structures.\n",
    "\n",
    "Once again, this is an example workflow to help get you get started on using helpful tools for your research. \n"
   ]
  },
  {
   "cell_type": "markdown",
   "metadata": {},
   "source": [
    "## Install relevant packages\n",
    "\n",
    "Open-source Python packages for setting up and analyzing atomic materials simulations\n",
    "- [pymatgen](https://pymatgen.org/) (see also [link](https://pymatgen.org/installation.html))\n",
    "- [Atomic Simulation Environment (ASE)](https://wiki.fysik.dtu.dk/ase/about.html) (see also [link](https://wiki.fysik.dtu.dk/ase/install.html#))\n",
    "\n",
    "```bash\n",
    "conda install --channel conda-forge pymatgen\n",
    "conda install -c conda-forge ase \n",
    "```\n",
    "\n",
    "Crystal structure visualizers:\n",
    "- [VESTA](https://jp-minerals.org/vesta/en/download.html)\n",
    "- [XCRYSDEN](http://www.xcrysden.org/Download.html)"
   ]
  },
  {
   "cell_type": "markdown",
   "metadata": {},
   "source": [
    "# Structure import\n",
    "\n",
    "We will start with importing a structure file as a Python object.\n",
    "Manipulation of a crystal structure is one place where object-oriented programming shines.\n",
    "\n",
    "If object-oriented programming is a new concept to you, please read about what it is, e.g., [here](https://realpython.com/python3-object-oriented-programming/)\n",
    "\n",
    "We shall do this using both ASE and pymatgen, which each separately define the object of a crystal structure (or molecule) differently.\n",
    "\n",
    "We will perform some basic structure manipulation on the well-known cubic perovskite strontium titanate (SrTiO$_3$)\n",
    "\n",
    "<img src=\"./files/SrTiO3.png\" alt=\"Drawing\" style=\"width: 200px;\"/>\n",
    "\n",
    "We will store the outputted files in a separate directory called `files`. \n",
    "You may change this or simply make a directory called `files` in your current directory."
   ]
  },
  {
   "cell_type": "code",
   "execution_count": null,
   "metadata": {},
   "outputs": [],
   "source": [
    "#%%bash\n",
    "#mkdir files/\n",
    "## uncomment this cell to make a directory from this jupyter notebook"
   ]
  },
  {
   "cell_type": "markdown",
   "metadata": {},
   "source": [
    "### Some starting questions:\n",
    "\n",
    "Using a crystal structure viewer of your choice (highlight to reveal answers)\n",
    "\n",
    "1. What are the lattice parameter(s) of SrTiO3? <font color='white'> 3.945 Angstroms </font>\n",
    "2. What is the space group of SrTiO3? <font color='white'> $Pm\\bar{3}m$ </font>\n",
    "3. What are the coordination numbers of Ti (light blue) and Sr (green)? <font color='white'> CN of Ti = 6, CN of Sr = 12 </font>"
   ]
  },
  {
   "cell_type": "markdown",
   "metadata": {},
   "source": [
    "###  ASE"
   ]
  },
  {
   "cell_type": "code",
   "execution_count": 1,
   "metadata": {
    "scrolled": false
   },
   "outputs": [
    {
     "name": "stdout",
     "output_type": "stream",
     "text": [
      "[[3.94513 0.      0.     ]\n",
      " [0.      3.94513 0.     ]\n",
      " [0.      0.      3.94513]]\n",
      "\n",
      "[[0.       0.       0.      ]\n",
      " [1.972565 1.972565 1.972565]\n",
      " [1.972565 0.       1.972565]\n",
      " [1.972565 1.972565 0.      ]\n",
      " [0.       1.972565 1.972565]]\n",
      "[[0.       0.       0.      ]\n",
      " [1.972565 1.972565 1.972565]\n",
      " [1.972565 0.       1.972565]\n",
      " [1.972565 1.972565 0.      ]\n",
      " [0.       1.972565 1.972565]]\n",
      "\n",
      "[[0.  0.  0. ]\n",
      " [0.5 0.5 0.5]\n",
      " [0.5 0.  0.5]\n",
      " [0.5 0.5 0. ]\n",
      " [0.  0.5 0.5]]\n",
      "\n",
      "Atom('Sr', [0.0, 0.0, 0.0], tag=0, index=0)\n"
     ]
    }
   ],
   "source": [
    "# Example with ASE\n",
    "from ase.io import read, write\n",
    "\n",
    "# import cif structure into ASE python object\n",
    "ase_struct=read(\"SrTiO3.cif\", format=\"cif\")\n",
    "\n",
    "# what is inside the structure object; compare with the cif file\n",
    "print(ase_struct.cell)\n",
    "print()\n",
    "print(ase_struct.positions)\n",
    "print(ase_struct.get_positions())\n",
    "print()\n",
    "print(ase_struct.get_scaled_positions())\n",
    "print()\n",
    "print(ase_struct[0])"
   ]
  },
  {
   "cell_type": "markdown",
   "metadata": {},
   "source": [
    "######  Exercise: convert from cif file format to QE input file\n",
    "\n",
    "hint: https://wiki.fysik.dtu.dk/ase/ase/io/io.html"
   ]
  },
  {
   "cell_type": "code",
   "execution_count": 2,
   "metadata": {},
   "outputs": [],
   "source": [
    "## your code here\n",
    "from ase.io import write\n",
    "\n",
    "write(\"./files/STO.in\", read(\"SrTiO3.cif\"), format=\"espresso-in\")"
   ]
  },
  {
   "cell_type": "markdown",
   "metadata": {},
   "source": [
    "### pymatgen"
   ]
  },
  {
   "cell_type": "code",
   "execution_count": 2,
   "metadata": {},
   "outputs": [
    {
     "name": "stdout",
     "output_type": "stream",
     "text": [
      "3.945130 0.000000 0.000000\n",
      "0.000000 3.945130 0.000000\n",
      "0.000000 0.000000 3.945130\n",
      "[[0.  0.  0. ]\n",
      " [0.5 0.5 0.5]\n",
      " [0.5 0.  0.5]\n",
      " [0.5 0.5 0. ]\n",
      " [0.  0.5 0.5]]\n"
     ]
    }
   ],
   "source": [
    "from pymatgen.core import Lattice, Structure, Molecule\n",
    "\n",
    "pmg_struct=Structure.from_file(\"SrTiO3.cif\")\n",
    "print(pmg_struct.lattice)\n",
    "print(pmg_struct.frac_coords)"
   ]
  },
  {
   "cell_type": "markdown",
   "metadata": {},
   "source": [
    "##### Exercise: import structure file from VASP\n",
    "\n",
    "hint: https://pymatgen.org/pymatgen.io.vasp.html"
   ]
  },
  {
   "cell_type": "code",
   "execution_count": null,
   "metadata": {},
   "outputs": [],
   "source": [
    "## your code here"
   ]
  },
  {
   "cell_type": "markdown",
   "metadata": {},
   "source": [
    "### Convert between ASE structure object and pymatgen structure object\n",
    "\n",
    "Sometimes there are capabilities in one package that the other does not have or is perhaps not written a way that is what you are looking for. \n",
    "It is possible to translate between the structure objects of ASE and pymatgen accordingly."
   ]
  },
  {
   "cell_type": "code",
   "execution_count": 3,
   "metadata": {},
   "outputs": [
    {
     "name": "stdout",
     "output_type": "stream",
     "text": [
      "3.945130 0.000000 0.000000\n",
      "0.000000 3.945130 0.000000\n",
      "0.000000 0.000000 3.945130\n",
      "[[0.  0.  0. ]\n",
      " [0.5 0.5 0.5]\n",
      " [0.5 0.  0.5]\n",
      " [0.5 0.5 0. ]\n",
      " [0.  0.5 0.5]]\n"
     ]
    }
   ],
   "source": [
    "## convert ASE structure object to pymatgen structure object\n",
    "from pymatgen.io.ase import AseAtomsAdaptor\n",
    "pmg_struct = AseAtomsAdaptor.get_structure(ase_struct)\n",
    "\n",
    "print(pmg_struct.lattice)\n",
    "print(pmg_struct.frac_coords)"
   ]
  },
  {
   "cell_type": "markdown",
   "metadata": {},
   "source": [
    "##### Exercise: convert pymatgen structure object to ASE structure object\n",
    "\n",
    "hint: https://pymatgen.org/pymatgen.io.ase.html"
   ]
  },
  {
   "cell_type": "code",
   "execution_count": null,
   "metadata": {},
   "outputs": [],
   "source": [
    "## your code here: convert pymatgen structure object to ASE structure object"
   ]
  },
  {
   "cell_type": "markdown",
   "metadata": {},
   "source": [
    "# Structure Manipulation\n",
    "\n",
    "Many of the codes we use peroidic boundary conditions, meaning the simulation cell is repeated at the cell boundary.\n",
    "We frequently need to run calculations that requires some dilute concentration of something, thus necessitating what is known as a supercell. \n",
    "A supercell is simply an expansion of your unit cell translated according to the unit cell lattice vectors. \n",
    "Situations where we use a supercell:\n",
    "- introducing a point defect in the dilute limit\n",
    "- finite difference method for phonons\n",
    "- computing spectra involving excitation of a particular atom\n",
    "\n",
    "We will make two different sizes of supercells:\n",
    "- a 3x3x3 supercell with ASE (so the unit cell has been translated 3 times in each lattice vector direction)\n",
    "- a 2x2x2 supercell with pymatgen\n",
    "\n",
    "For ASE, you should get something like the following\n",
    "\n",
    "![](./files/SrTiO3-3x3x3.png)\n",
    "\n",
    "Of course, for pymatgen, you will get something similar but smaller"
   ]
  },
  {
   "cell_type": "markdown",
   "metadata": {},
   "source": [
    "## Make a supercell"
   ]
  },
  {
   "cell_type": "code",
   "execution_count": 4,
   "metadata": {},
   "outputs": [],
   "source": [
    "# ASE: https://databases.fysik.dtu.dk/ase/_modules/ase/build/supercells.html\n",
    "from ase.build.supercells import make_supercell\n",
    "from ase.io import write\n",
    "import numpy as np\n",
    "\n",
    "P = 3*np.identity(3) # transformation matrix for 3x3x3 supercell\n",
    "ase_supercell = make_supercell(ase_struct, P)\n",
    "write(\"./files/SrTiO3-3x3x3.cif\", ase_supercell,format=\"cif\")"
   ]
  },
  {
   "cell_type": "code",
   "execution_count": 6,
   "metadata": {},
   "outputs": [],
   "source": [
    "# pymatgen\n",
    "from pymatgen.io.cif import CifWriter\n",
    "pmg_struct.make_supercell([2,2,2], to_unit_cell=True)\n",
    "w = CifWriter(pmg_struct)\n",
    "w.write_file(\"./files/SrTiO3-2x2x2.cif\")"
   ]
  },
  {
   "cell_type": "markdown",
   "metadata": {},
   "source": [
    "## Make a point defect\n",
    "\n",
    "Next, we'll introduce a N substitutional defect on an oxygen site.\n",
    "You should get something like the following where the substitutional defect is known in dark blue:\n",
    "\n",
    "![](./files/SrTiO3-N.png)\n",
    "\n",
    "**Checkpoint:**\n",
    "- Why do we see multiple substitutional defects in the image even though we only performed one substitution?\n",
    "<font color='white'> We see the periodic images of the substitutional defect in the adjacent cell. </font>\n",
    "- How far away are periodic images of the substitutional defect from each other? Is this sufficiently far to capture the dilute limit? \n",
    "<font color='white'> It depends on what we are calculating-need to perform a convergence wrt to supercell size to know for sure.</font>"
   ]
  },
  {
   "cell_type": "code",
   "execution_count": 7,
   "metadata": {},
   "outputs": [],
   "source": [
    "# example with pymatgen: make a substitutional point defect\n",
    "def substitute(structure,sites,species):\n",
    "    \"\"\" wrapper for making substitutional defects\n",
    " \n",
    "       struc (Pymatgen structure)\n",
    "       sites (list of integers): sites to replace \n",
    "       species (list of strings): species of sites \"\"\"\n",
    "    # copy structure and leave original unmodified\n",
    "    struc = structure.copy()\n",
    "    \n",
    "    sites = np.subtract(sites,1) # zero-indexing\n",
    "    assert len(sites) == len(species)\n",
    "    \n",
    "    for i in range(len(sites)):\n",
    "        s = sites[i]\n",
    "        coord = struc.sites[s].frac_coords\n",
    "        struc.replace(s,species[i],coord)\n",
    "    \n",
    "    return struc\n",
    "\n",
    "pmg_defect=substitute(pmg_struct,[37+1],'N')\n",
    "\n",
    "from pymatgen.io.cif import CifWriter\n",
    "w = CifWriter(pmg_defect)\n",
    "w.write_file(\"./files/SrTiO3-N.cif\")"
   ]
  },
  {
   "cell_type": "markdown",
   "metadata": {},
   "source": [
    "## Make a surface\n",
    "\n",
    "Let's make a surface at a selected cleavage of the bulk cell.\n",
    "\n",
    "This function depends on the concept of Miller indices, which is a notation system for crystal facets.\n",
    "If Miller indices are a new concept to you, please read references in crystallography or solid-state physics, e.g., [here](https://en.wikipedia.org/wiki/Miller_index)\n",
    "\n",
    "You should generate two slab structures.\n",
    "Visualize the slab structures. \n",
    "\n",
    "**Checkpoint:**\n",
    "- What is the main difference between the two slab structures?\n",
    "<font color='white'> The termination of the surface atoms is different; one is terminated by Ti-O and the other is terminated by Sr-O </font>\n",
    "- How do you know how thick the slab and vacuum spacing needs to be?\n",
    "<font color='white'> It is a balance of accuracy (e.g., separating the surfaces as far from each other as possible) and computational cost. You must perform a convergence test wrt to slab thickness and vacuum thickness to really know. Relevant literature will provide a good starting point. </font>"
   ]
  },
  {
   "cell_type": "code",
   "execution_count": null,
   "metadata": {},
   "outputs": [],
   "source": [
    "from pymatgen.core.surface import SlabGenerator,generate_all_slabs\n",
    "from pymatgen.io.vasp import Poscar\n",
    "from pymatgen.io.cif import CifWriter\n",
    "\n",
    "poscar = Poscar.from_file(\"SrTiO3.vasp\")\n",
    "pmg_struct = poscar.structure\n",
    "\n",
    "miller=[0,1,0]\n",
    "slabsize=25\n",
    "vacsize=15\n",
    "slabgen = SlabGenerator(pmg_struct,miller,slabsize,vacsize, center_slab=True)\n",
    "slabs = slabgen.get_slabs(symmetrize=True)\n",
    "\n",
    "# output each slab in slabs\n",
    "i=0\n",
    "for slab in slabs:\n",
    "    i+=1\n",
    "    w = CifWriter(slab)\n",
    "    w.write_file(\"./files/SrTiO3-slab\"+str(i)+\".cif\")\n"
   ]
  },
  {
   "cell_type": "markdown",
   "metadata": {},
   "source": [
    "## Add an adsorbate to the surface\n",
    "\n",
    "Now, let's add an adsorbate to the surface. \n",
    "We will take the Sr-O terminated surface and add a water molecule to the surface, having effectively 100% monolayer on the surface. \n",
    "\n",
    "You should end up with something that looks like:\n",
    "\n",
    "![](./files/SrTiO3-OH.png)\n",
    "\n",
    "**Checkpoint:**\n",
    "\n",
    "- How do we know where to add the water molecule and in what orientation?\n",
    "<font color='white'> A priori we do not, but we can use a combination of physical intuition and literature search to narrow down potential candidates. For example, we know water is a polar molecule, meaning the oxygen is slightly negatively charged and hydrogens are slightly positively charged. Thus, we might expect the adsorption of water via the oxygen atom to be more energetically favorable on a metal surface site than on an oxygen surface site. </font>\n",
    "- What would you need to do to make a symmetric slab with adsorbate?\n",
    "<font color='white'> Add a hydroxyl group on the other side of the slab-oriented by 180$^\\circ$. Make sure the slab itself is symmetric. Make sure the slab is centered - physically this does not matter, but may help with other aspects of structural manipulation. </font>\n",
    "- What would you need to do to have a smaller coverage of hydroxyls?\n",
    "<font color='white'> Make a supercell in the lateral directions and place adsorbate </font>\n",
    "- How physical is this model?\n",
    "<font color='white'> It's probably unlikely the hydroxyls all point in the vertical direction or in general are aligned. If we were to use this cell, we would only see concerted relaxation and motion of the hydroxyl groups because we have constrained the cell to only be 1x1 surface representation. We also do not know a priori that the entire Sr-O surface is covered in hydroxyls in the first place. </font>"
   ]
  },
  {
   "cell_type": "code",
   "execution_count": null,
   "metadata": {},
   "outputs": [],
   "source": [
    "from ase.io import read\n",
    "from ase.build import molecule, add_adsorbate\n",
    "\n",
    "ase_struct=read(\"./files/SrTiO3-slab2.cif\", format=\"cif\")\n",
    "hydroxyl = molecule('OH')\n",
    "\n",
    "coord = ase_struct.get_positions()[0] # a surface Sr atom\n",
    "\n",
    "# add_adsorbate(...) adds a molecule relative to max_z coordinate in the slab\n",
    "# in order to add a molecule on the bottom side, we add ~ vacuum spacing of above and below the slab\n",
    "add_adsorbate(ase_struct,hydroxyl,height = 18, position=(coord[0],coord[1]), mol_index=0)\n",
    "write(\"./files/SrTiO3-OH.cif\",ase_struct,format=\"cif\")"
   ]
  },
  {
   "cell_type": "markdown",
   "metadata": {},
   "source": [
    "##### Exercise: SrTiO$_3$ (010) surface at 25% coverage\n",
    "\n",
    "Using everything you have learned so far to build a SrTiO3 (010) surface with 25% coverage of hydroxyls.\n",
    "Hint: https://pymatgen.org/pymatgen.core.surface.html\n",
    "\n",
    "Finally, if there's anything that you are not sure of --> always consult the documentation!\n"
   ]
  },
  {
   "cell_type": "code",
   "execution_count": null,
   "metadata": {},
   "outputs": [],
   "source": [
    "# your code here: build a Sr-O terminated (010) surface with 25% coverage of hydroxyls\n",
    "\n",
    "# import necessary packages or functions\n",
    "from ase.build.supercells import make_supercell\n",
    "from ase.build import molecule, add_adsorbate\n",
    "from ase.io import write\n",
    "from pymatgen.io.ase import AseAtomsAdaptor\n",
    "from pymatgen.core.surface import SlabGenerator\n",
    "import numpy as np\n",
    "\n",
    "## first import unit cell\n",
    "\n",
    "## second make a supercell\n",
    "\n",
    "## next make the supercell into a slab by introducing a vacuum spacing \n",
    "\n",
    "## finally, add the adsorbate to one of the slab structures"
   ]
  }
 ],
 "metadata": {
  "kernelspec": {
   "display_name": "Python 3",
   "language": "python",
   "name": "python3"
  },
  "language_info": {
   "codemirror_mode": {
    "name": "ipython",
    "version": 3
   },
   "file_extension": ".py",
   "mimetype": "text/x-python",
   "name": "python",
   "nbconvert_exporter": "python",
   "pygments_lexer": "ipython3",
   "version": "3.6.6"
  }
 },
 "nbformat": 4,
 "nbformat_minor": 5
}
